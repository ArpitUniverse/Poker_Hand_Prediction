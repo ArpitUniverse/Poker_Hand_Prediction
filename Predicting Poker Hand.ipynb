{
 "cells": [
  {
   "cell_type": "code",
   "execution_count": 54,
   "id": "54cca7cc-d381-4623-934c-d4921d371046",
   "metadata": {},
   "outputs": [],
   "source": [
    "## STEP 1: IMPORTING LIBRARIES"
   ]
  },
  {
   "cell_type": "code",
   "execution_count": 55,
   "id": "c2f908e9-89b5-4391-a7bb-b22d6bc4b310",
   "metadata": {},
   "outputs": [],
   "source": [
    "import pandas as pd\n",
    "\n",
    "import matplotlib.pyplot as plt\n",
    "\n",
    "%matplotlib inline"
   ]
  },
  {
   "cell_type": "code",
   "execution_count": 56,
   "id": "bb86b6ab-13e8-4858-a721-bfe22948a033",
   "metadata": {},
   "outputs": [],
   "source": [
    "##STEP 2: LOADING THE DATASET"
   ]
  },
  {
   "cell_type": "code",
   "execution_count": 57,
   "id": "350391c6-c4ec-40c8-b0f3-9071b0d01881",
   "metadata": {},
   "outputs": [
    {
     "data": {
      "text/html": [
       "<div>\n",
       "<style scoped>\n",
       "    .dataframe tbody tr th:only-of-type {\n",
       "        vertical-align: middle;\n",
       "    }\n",
       "\n",
       "    .dataframe tbody tr th {\n",
       "        vertical-align: top;\n",
       "    }\n",
       "\n",
       "    .dataframe thead th {\n",
       "        text-align: right;\n",
       "    }\n",
       "</style>\n",
       "<table border=\"1\" class=\"dataframe\">\n",
       "  <thead>\n",
       "    <tr style=\"text-align: right;\">\n",
       "      <th></th>\n",
       "      <th>1</th>\n",
       "      <th>10</th>\n",
       "      <th>1.1</th>\n",
       "      <th>11</th>\n",
       "      <th>1.2</th>\n",
       "      <th>13</th>\n",
       "      <th>1.3</th>\n",
       "      <th>12</th>\n",
       "      <th>1.4</th>\n",
       "      <th>1.5</th>\n",
       "      <th>9</th>\n",
       "    </tr>\n",
       "  </thead>\n",
       "  <tbody>\n",
       "    <tr>\n",
       "      <th>0</th>\n",
       "      <td>2</td>\n",
       "      <td>11</td>\n",
       "      <td>2</td>\n",
       "      <td>13</td>\n",
       "      <td>2</td>\n",
       "      <td>10</td>\n",
       "      <td>2</td>\n",
       "      <td>12</td>\n",
       "      <td>2</td>\n",
       "      <td>1</td>\n",
       "      <td>9</td>\n",
       "    </tr>\n",
       "    <tr>\n",
       "      <th>1</th>\n",
       "      <td>3</td>\n",
       "      <td>12</td>\n",
       "      <td>3</td>\n",
       "      <td>11</td>\n",
       "      <td>3</td>\n",
       "      <td>13</td>\n",
       "      <td>3</td>\n",
       "      <td>10</td>\n",
       "      <td>3</td>\n",
       "      <td>1</td>\n",
       "      <td>9</td>\n",
       "    </tr>\n",
       "    <tr>\n",
       "      <th>2</th>\n",
       "      <td>4</td>\n",
       "      <td>10</td>\n",
       "      <td>4</td>\n",
       "      <td>11</td>\n",
       "      <td>4</td>\n",
       "      <td>1</td>\n",
       "      <td>4</td>\n",
       "      <td>13</td>\n",
       "      <td>4</td>\n",
       "      <td>12</td>\n",
       "      <td>9</td>\n",
       "    </tr>\n",
       "    <tr>\n",
       "      <th>3</th>\n",
       "      <td>4</td>\n",
       "      <td>1</td>\n",
       "      <td>4</td>\n",
       "      <td>13</td>\n",
       "      <td>4</td>\n",
       "      <td>12</td>\n",
       "      <td>4</td>\n",
       "      <td>11</td>\n",
       "      <td>4</td>\n",
       "      <td>10</td>\n",
       "      <td>9</td>\n",
       "    </tr>\n",
       "    <tr>\n",
       "      <th>4</th>\n",
       "      <td>1</td>\n",
       "      <td>2</td>\n",
       "      <td>1</td>\n",
       "      <td>4</td>\n",
       "      <td>1</td>\n",
       "      <td>5</td>\n",
       "      <td>1</td>\n",
       "      <td>3</td>\n",
       "      <td>1</td>\n",
       "      <td>6</td>\n",
       "      <td>8</td>\n",
       "    </tr>\n",
       "    <tr>\n",
       "      <th>...</th>\n",
       "      <td>...</td>\n",
       "      <td>...</td>\n",
       "      <td>...</td>\n",
       "      <td>...</td>\n",
       "      <td>...</td>\n",
       "      <td>...</td>\n",
       "      <td>...</td>\n",
       "      <td>...</td>\n",
       "      <td>...</td>\n",
       "      <td>...</td>\n",
       "      <td>...</td>\n",
       "    </tr>\n",
       "    <tr>\n",
       "      <th>25004</th>\n",
       "      <td>3</td>\n",
       "      <td>9</td>\n",
       "      <td>2</td>\n",
       "      <td>6</td>\n",
       "      <td>4</td>\n",
       "      <td>11</td>\n",
       "      <td>4</td>\n",
       "      <td>12</td>\n",
       "      <td>2</td>\n",
       "      <td>4</td>\n",
       "      <td>0</td>\n",
       "    </tr>\n",
       "    <tr>\n",
       "      <th>25005</th>\n",
       "      <td>4</td>\n",
       "      <td>1</td>\n",
       "      <td>4</td>\n",
       "      <td>10</td>\n",
       "      <td>3</td>\n",
       "      <td>13</td>\n",
       "      <td>3</td>\n",
       "      <td>4</td>\n",
       "      <td>1</td>\n",
       "      <td>10</td>\n",
       "      <td>1</td>\n",
       "    </tr>\n",
       "    <tr>\n",
       "      <th>25006</th>\n",
       "      <td>2</td>\n",
       "      <td>1</td>\n",
       "      <td>2</td>\n",
       "      <td>10</td>\n",
       "      <td>4</td>\n",
       "      <td>4</td>\n",
       "      <td>4</td>\n",
       "      <td>1</td>\n",
       "      <td>4</td>\n",
       "      <td>13</td>\n",
       "      <td>1</td>\n",
       "    </tr>\n",
       "    <tr>\n",
       "      <th>25007</th>\n",
       "      <td>2</td>\n",
       "      <td>12</td>\n",
       "      <td>4</td>\n",
       "      <td>3</td>\n",
       "      <td>1</td>\n",
       "      <td>10</td>\n",
       "      <td>1</td>\n",
       "      <td>12</td>\n",
       "      <td>4</td>\n",
       "      <td>9</td>\n",
       "      <td>1</td>\n",
       "    </tr>\n",
       "    <tr>\n",
       "      <th>25008</th>\n",
       "      <td>1</td>\n",
       "      <td>7</td>\n",
       "      <td>3</td>\n",
       "      <td>11</td>\n",
       "      <td>3</td>\n",
       "      <td>3</td>\n",
       "      <td>4</td>\n",
       "      <td>8</td>\n",
       "      <td>3</td>\n",
       "      <td>7</td>\n",
       "      <td>1</td>\n",
       "    </tr>\n",
       "  </tbody>\n",
       "</table>\n",
       "<p>25009 rows × 11 columns</p>\n",
       "</div>"
      ],
      "text/plain": [
       "       1  10  1.1  11  1.2  13  1.3  12  1.4  1.5  9\n",
       "0      2  11    2  13    2  10    2  12    2    1  9\n",
       "1      3  12    3  11    3  13    3  10    3    1  9\n",
       "2      4  10    4  11    4   1    4  13    4   12  9\n",
       "3      4   1    4  13    4  12    4  11    4   10  9\n",
       "4      1   2    1   4    1   5    1   3    1    6  8\n",
       "...   ..  ..  ...  ..  ...  ..  ...  ..  ...  ... ..\n",
       "25004  3   9    2   6    4  11    4  12    2    4  0\n",
       "25005  4   1    4  10    3  13    3   4    1   10  1\n",
       "25006  2   1    2  10    4   4    4   1    4   13  1\n",
       "25007  2  12    4   3    1  10    1  12    4    9  1\n",
       "25008  1   7    3  11    3   3    4   8    3    7  1\n",
       "\n",
       "[25009 rows x 11 columns]"
      ]
     },
     "execution_count": 57,
     "metadata": {},
     "output_type": "execute_result"
    }
   ],
   "source": [
    "poker_df = pd.read_csv('poker_hand_train_true.csv')\n",
    "poker_df "
   ]
  },
  {
   "cell_type": "code",
   "execution_count": 58,
   "id": "451fb1a2-7bd6-4f2b-811d-ec017a17daa7",
   "metadata": {},
   "outputs": [],
   "source": [
    "##STEP 3: ANALYSING AND PRE-PROCESSING THE DATA"
   ]
  },
  {
   "cell_type": "code",
   "execution_count": 59,
   "id": "6bf746ba-7cd8-4765-9d28-af59e98c4653",
   "metadata": {},
   "outputs": [],
   "source": [
    "##STEP 4: CHANGING NAMES OF COLUMN ACCORDING TO THE REFERENCES PROVIDED FROM WHERE THE DATASET IS OBTAINED"
   ]
  },
  {
   "cell_type": "code",
   "execution_count": 60,
   "id": "fe1d7fc4-1c22-4af3-91c4-6336dbece71c",
   "metadata": {},
   "outputs": [
    {
     "data": {
      "text/html": [
       "<div>\n",
       "<style scoped>\n",
       "    .dataframe tbody tr th:only-of-type {\n",
       "        vertical-align: middle;\n",
       "    }\n",
       "\n",
       "    .dataframe tbody tr th {\n",
       "        vertical-align: top;\n",
       "    }\n",
       "\n",
       "    .dataframe thead th {\n",
       "        text-align: right;\n",
       "    }\n",
       "</style>\n",
       "<table border=\"1\" class=\"dataframe\">\n",
       "  <thead>\n",
       "    <tr style=\"text-align: right;\">\n",
       "      <th></th>\n",
       "      <th>first_suit</th>\n",
       "      <th>first_rank</th>\n",
       "      <th>second_suit</th>\n",
       "      <th>second_rank</th>\n",
       "      <th>third_suit</th>\n",
       "      <th>third_rank</th>\n",
       "      <th>fourth_suit</th>\n",
       "      <th>fourth_rank</th>\n",
       "      <th>fifth_suit</th>\n",
       "      <th>fifth_rank</th>\n",
       "      <th>hand</th>\n",
       "    </tr>\n",
       "  </thead>\n",
       "  <tbody>\n",
       "    <tr>\n",
       "      <th>0</th>\n",
       "      <td>2</td>\n",
       "      <td>11</td>\n",
       "      <td>2</td>\n",
       "      <td>13</td>\n",
       "      <td>2</td>\n",
       "      <td>10</td>\n",
       "      <td>2</td>\n",
       "      <td>12</td>\n",
       "      <td>2</td>\n",
       "      <td>1</td>\n",
       "      <td>9</td>\n",
       "    </tr>\n",
       "    <tr>\n",
       "      <th>1</th>\n",
       "      <td>3</td>\n",
       "      <td>12</td>\n",
       "      <td>3</td>\n",
       "      <td>11</td>\n",
       "      <td>3</td>\n",
       "      <td>13</td>\n",
       "      <td>3</td>\n",
       "      <td>10</td>\n",
       "      <td>3</td>\n",
       "      <td>1</td>\n",
       "      <td>9</td>\n",
       "    </tr>\n",
       "    <tr>\n",
       "      <th>2</th>\n",
       "      <td>4</td>\n",
       "      <td>10</td>\n",
       "      <td>4</td>\n",
       "      <td>11</td>\n",
       "      <td>4</td>\n",
       "      <td>1</td>\n",
       "      <td>4</td>\n",
       "      <td>13</td>\n",
       "      <td>4</td>\n",
       "      <td>12</td>\n",
       "      <td>9</td>\n",
       "    </tr>\n",
       "    <tr>\n",
       "      <th>3</th>\n",
       "      <td>4</td>\n",
       "      <td>1</td>\n",
       "      <td>4</td>\n",
       "      <td>13</td>\n",
       "      <td>4</td>\n",
       "      <td>12</td>\n",
       "      <td>4</td>\n",
       "      <td>11</td>\n",
       "      <td>4</td>\n",
       "      <td>10</td>\n",
       "      <td>9</td>\n",
       "    </tr>\n",
       "    <tr>\n",
       "      <th>4</th>\n",
       "      <td>1</td>\n",
       "      <td>2</td>\n",
       "      <td>1</td>\n",
       "      <td>4</td>\n",
       "      <td>1</td>\n",
       "      <td>5</td>\n",
       "      <td>1</td>\n",
       "      <td>3</td>\n",
       "      <td>1</td>\n",
       "      <td>6</td>\n",
       "      <td>8</td>\n",
       "    </tr>\n",
       "    <tr>\n",
       "      <th>...</th>\n",
       "      <td>...</td>\n",
       "      <td>...</td>\n",
       "      <td>...</td>\n",
       "      <td>...</td>\n",
       "      <td>...</td>\n",
       "      <td>...</td>\n",
       "      <td>...</td>\n",
       "      <td>...</td>\n",
       "      <td>...</td>\n",
       "      <td>...</td>\n",
       "      <td>...</td>\n",
       "    </tr>\n",
       "    <tr>\n",
       "      <th>25004</th>\n",
       "      <td>3</td>\n",
       "      <td>9</td>\n",
       "      <td>2</td>\n",
       "      <td>6</td>\n",
       "      <td>4</td>\n",
       "      <td>11</td>\n",
       "      <td>4</td>\n",
       "      <td>12</td>\n",
       "      <td>2</td>\n",
       "      <td>4</td>\n",
       "      <td>0</td>\n",
       "    </tr>\n",
       "    <tr>\n",
       "      <th>25005</th>\n",
       "      <td>4</td>\n",
       "      <td>1</td>\n",
       "      <td>4</td>\n",
       "      <td>10</td>\n",
       "      <td>3</td>\n",
       "      <td>13</td>\n",
       "      <td>3</td>\n",
       "      <td>4</td>\n",
       "      <td>1</td>\n",
       "      <td>10</td>\n",
       "      <td>1</td>\n",
       "    </tr>\n",
       "    <tr>\n",
       "      <th>25006</th>\n",
       "      <td>2</td>\n",
       "      <td>1</td>\n",
       "      <td>2</td>\n",
       "      <td>10</td>\n",
       "      <td>4</td>\n",
       "      <td>4</td>\n",
       "      <td>4</td>\n",
       "      <td>1</td>\n",
       "      <td>4</td>\n",
       "      <td>13</td>\n",
       "      <td>1</td>\n",
       "    </tr>\n",
       "    <tr>\n",
       "      <th>25007</th>\n",
       "      <td>2</td>\n",
       "      <td>12</td>\n",
       "      <td>4</td>\n",
       "      <td>3</td>\n",
       "      <td>1</td>\n",
       "      <td>10</td>\n",
       "      <td>1</td>\n",
       "      <td>12</td>\n",
       "      <td>4</td>\n",
       "      <td>9</td>\n",
       "      <td>1</td>\n",
       "    </tr>\n",
       "    <tr>\n",
       "      <th>25008</th>\n",
       "      <td>1</td>\n",
       "      <td>7</td>\n",
       "      <td>3</td>\n",
       "      <td>11</td>\n",
       "      <td>3</td>\n",
       "      <td>3</td>\n",
       "      <td>4</td>\n",
       "      <td>8</td>\n",
       "      <td>3</td>\n",
       "      <td>7</td>\n",
       "      <td>1</td>\n",
       "    </tr>\n",
       "  </tbody>\n",
       "</table>\n",
       "<p>25009 rows × 11 columns</p>\n",
       "</div>"
      ],
      "text/plain": [
       "       first_suit  first_rank  second_suit  second_rank  third_suit  \\\n",
       "0               2          11            2           13           2   \n",
       "1               3          12            3           11           3   \n",
       "2               4          10            4           11           4   \n",
       "3               4           1            4           13           4   \n",
       "4               1           2            1            4           1   \n",
       "...           ...         ...          ...          ...         ...   \n",
       "25004           3           9            2            6           4   \n",
       "25005           4           1            4           10           3   \n",
       "25006           2           1            2           10           4   \n",
       "25007           2          12            4            3           1   \n",
       "25008           1           7            3           11           3   \n",
       "\n",
       "       third_rank  fourth_suit  fourth_rank  fifth_suit  fifth_rank  hand  \n",
       "0              10            2           12           2           1     9  \n",
       "1              13            3           10           3           1     9  \n",
       "2               1            4           13           4          12     9  \n",
       "3              12            4           11           4          10     9  \n",
       "4               5            1            3           1           6     8  \n",
       "...           ...          ...          ...         ...         ...   ...  \n",
       "25004          11            4           12           2           4     0  \n",
       "25005          13            3            4           1          10     1  \n",
       "25006           4            4            1           4          13     1  \n",
       "25007          10            1           12           4           9     1  \n",
       "25008           3            4            8           3           7     1  \n",
       "\n",
       "[25009 rows x 11 columns]"
      ]
     },
     "execution_count": 60,
     "metadata": {},
     "output_type": "execute_result"
    }
   ],
   "source": [
    "poker_df.columns = ['first_suit', 'first_rank', 'second_suit', 'second_rank', 'third_suit', 'third_rank',\n",
    "'fourth_suit', 'fourth_rank', 'fifth_suit', 'fifth_rank', 'hand']\n",
    "\n",
    "labels = ['zilch', 'one_pair', 'two_pair', 'three_of_a_kind', 'straight', 'flush', 'full_house',\n",
    "'four_of_a_kind', 'straight_flush', 'royal_flush']\n",
    "\n",
    "poker_df"
   ]
  },
  {
   "cell_type": "code",
   "execution_count": 61,
   "id": "980d949f-56c8-4f0c-9469-97d80335103d",
   "metadata": {},
   "outputs": [],
   "source": [
    "### 4) SEPERATING THE DATASET INTO FEATURES (X) AND TARGET VALUES (y)\n",
    "X = poker_df.iloc[:, 0:9]\n",
    "y = poker_df.hand"
   ]
  },
  {
   "cell_type": "code",
   "execution_count": 62,
   "id": "c848a206-9ab5-42cb-80d2-6a02ae7514be",
   "metadata": {},
   "outputs": [],
   "source": [
    "##STEP 5: VISUALIZING WHETHER CLASS BALANCE IS PRESENT IN OUR DATASET OR NOT"
   ]
  },
  {
   "cell_type": "code",
   "execution_count": 63,
   "id": "b137be1f-c228-40fb-9b3c-7ebdadcd92b4",
   "metadata": {},
   "outputs": [
    {
     "name": "stdout",
     "output_type": "stream",
     "text": [
      "Defaulting to user installation because normal site-packages is not writeable\n",
      "Requirement already satisfied: yellowbrick in c:\\users\\arpit\\appdata\\roaming\\python\\python312\\site-packages (1.5)\n",
      "Requirement already satisfied: matplotlib!=3.0.0,>=2.0.2 in c:\\users\\arpit\\appdata\\roaming\\python\\python312\\site-packages (from yellowbrick) (3.9.2)\n",
      "Requirement already satisfied: scipy>=1.0.0 in c:\\users\\arpit\\appdata\\roaming\\python\\python312\\site-packages (from yellowbrick) (1.14.1)\n",
      "Requirement already satisfied: scikit-learn>=1.0.0 in c:\\users\\arpit\\appdata\\roaming\\python\\python312\\site-packages (from yellowbrick) (1.5.2)\n",
      "Requirement already satisfied: numpy>=1.16.0 in c:\\users\\arpit\\appdata\\roaming\\python\\python312\\site-packages (from yellowbrick) (1.26.4)\n",
      "Requirement already satisfied: cycler>=0.10.0 in c:\\users\\arpit\\appdata\\roaming\\python\\python312\\site-packages (from yellowbrick) (0.12.1)\n",
      "Requirement already satisfied: contourpy>=1.0.1 in c:\\users\\arpit\\appdata\\roaming\\python\\python312\\site-packages (from matplotlib!=3.0.0,>=2.0.2->yellowbrick) (1.3.0)\n",
      "Requirement already satisfied: fonttools>=4.22.0 in c:\\users\\arpit\\appdata\\roaming\\python\\python312\\site-packages (from matplotlib!=3.0.0,>=2.0.2->yellowbrick) (4.54.1)\n",
      "Requirement already satisfied: kiwisolver>=1.3.1 in c:\\users\\arpit\\appdata\\roaming\\python\\python312\\site-packages (from matplotlib!=3.0.0,>=2.0.2->yellowbrick) (1.4.7)\n",
      "Requirement already satisfied: packaging>=20.0 in c:\\users\\arpit\\appdata\\roaming\\python\\python312\\site-packages (from matplotlib!=3.0.0,>=2.0.2->yellowbrick) (24.1)\n",
      "Requirement already satisfied: pillow>=8 in c:\\users\\arpit\\appdata\\roaming\\python\\python312\\site-packages (from matplotlib!=3.0.0,>=2.0.2->yellowbrick) (10.4.0)\n",
      "Requirement already satisfied: pyparsing>=2.3.1 in c:\\users\\arpit\\appdata\\roaming\\python\\python312\\site-packages (from matplotlib!=3.0.0,>=2.0.2->yellowbrick) (3.1.4)\n",
      "Requirement already satisfied: python-dateutil>=2.7 in c:\\users\\arpit\\appdata\\roaming\\python\\python312\\site-packages (from matplotlib!=3.0.0,>=2.0.2->yellowbrick) (2.9.0.post0)\n",
      "Requirement already satisfied: joblib>=1.2.0 in c:\\users\\arpit\\appdata\\roaming\\python\\python312\\site-packages (from scikit-learn>=1.0.0->yellowbrick) (1.4.2)\n",
      "Requirement already satisfied: threadpoolctl>=3.1.0 in c:\\users\\arpit\\appdata\\roaming\\python\\python312\\site-packages (from scikit-learn>=1.0.0->yellowbrick) (3.5.0)\n",
      "Requirement already satisfied: six>=1.5 in c:\\users\\arpit\\appdata\\roaming\\python\\python312\\site-packages (from python-dateutil>=2.7->matplotlib!=3.0.0,>=2.0.2->yellowbrick) (1.16.0)\n"
     ]
    }
   ],
   "source": [
    "!pip install yellowbrick\n"
   ]
  },
  {
   "cell_type": "code",
   "execution_count": 64,
   "id": "2b215448-e55f-4fb7-ac08-285c62cd4d6c",
   "metadata": {},
   "outputs": [
    {
     "data": {
      "image/png": "[encoded data removed]",
      "text/plain": [
       "<Figure size 1080x720 with 1 Axes>"
      ]
     },
     "metadata": {},
     "output_type": "display_data"
    },
    {
     "data": {
      "text/plain": [
       "<Axes: title={'center': 'Class Balance for 25,009 Instances'}, ylabel='support'>"
      ]
     },
     "execution_count": 64,
     "metadata": {},
     "output_type": "execute_result"
    }
   ],
   "source": [
    "from yellowbrick.classifier import ClassBalance, ROCAUC, ClassPredictionError\n",
    "\n",
    "balance = ClassBalance(size=(1080,720), labels=labels)\n",
    "\n",
    "balance.fit(y)\n",
    "\n",
    "balance.show()"
   ]
  },
  {
   "cell_type": "code",
   "execution_count": 65,
   "id": "1ee1db6d-da93-416c-9510-9a0345c158bc",
   "metadata": {},
   "outputs": [],
   "source": [
    "###THUS THERE IS CLASS IMBALANCE PRESENT IN OUR DATASET, ANS WE MUST REMOVE IT"
   ]
  },
  {
   "cell_type": "code",
   "execution_count": 66,
   "id": "c8e18c87-b53a-40d7-b48e-1fdea2b9df6c",
   "metadata": {},
   "outputs": [],
   "source": [
    "##STEP 6: UP-SAMPLING FROM MINORITY CLASSES"
   ]
  },
  {
   "cell_type": "code",
   "execution_count": 67,
   "id": "7724ce6c-2666-4f6b-812d-d3efd51affec",
   "metadata": {},
   "outputs": [
    {
     "data": {
      "image/png": "[encoded data removed]",
      "text/plain": [
       "<Figure size 1080x720 with 1 Axes>"
      ]
     },
     "metadata": {},
     "output_type": "display_data"
    },
    {
     "data": {
      "text/plain": [
       "<Axes: title={'center': 'Class Balance for 25,009 Instances'}, ylabel='support'>"
      ]
     },
     "execution_count": 67,
     "metadata": {},
     "output_type": "execute_result"
    }
   ],
   "source": [
    "poker_df.loc[poker_df['hand']>=5, 'hand'] = 5\n",
    "\n",
    "y = poker_df.hand\n",
    "\n",
    "labels = ['zilch', 'one_pair', 'two_pair', 'three_of_a_kind', 'straight', 'flush_or_better']\n",
    "\n",
    "balance = ClassBalance(size=(1080,720), labels=labels)\n",
    "\n",
    "balance.fit(y)\n",
    "\n",
    "balance.show()"
   ]
  },
  {
   "cell_type": "code",
   "execution_count": 68,
   "id": "dfa2ea97-99c5-4552-b159-fba878ed0bd9",
   "metadata": {},
   "outputs": [],
   "source": [
    "##STEP 7: TRAINING THE RANDOM FORESTS CLASSIFIER"
   ]
  },
  {
   "cell_type": "code",
   "execution_count": null,
   "id": "9992063e-147e-4d20-8a1e-3de1928fb141",
   "metadata": {},
   "outputs": [],
   "source": [
    "from sklearn.model_selection import train_test_split\n",
    "from sklearn.preprocessing import StandardScaler\n",
    "from sklearn.neural_network import MLPClassifier\n",
    "\n",
    "# Splitting the data\n",
    "X_train, X_test, y_train, y_test = train_test_split(X, y, test_size=0.5)\n",
    "\n",
    "# Scaling the data\n",
    "scaler = StandardScaler()\n",
    "X_train = scaler.fit_transform(X_train)\n",
    "X_test = scaler.transform(X_test)\n",
    "\n",
    "# Defining the MLPClassifier with increased iterations and scaling\n",
    "CLF = MLPClassifier(solver='adam', alpha=0.1, hidden_layer_sizes=(50, 100, 50), \n",
    "                    learning_rate='adaptive', activation='tanh', max_iter=1000)\n",
    "\n",
    "\n",
    "\n",
    "\n",
    "# Fitting the model\n",
    "CLF.fit(X_train, y_train)\n"
   ]
  },
  {
   "cell_type": "code",
   "execution_count": 31,
   "id": "52047742-a65e-4967-b633-c5fa1c8fb225",
   "metadata": {},
   "outputs": [],
   "source": [
    "##STEP 8: EVALUATING THE MODEL\n"
   ]
  },
  {
   "cell_type": "code",
   "execution_count": 32,
   "id": "72c3868f-9db7-4b56-bc20-68a4eb359e16",
   "metadata": {},
   "outputs": [],
   "source": [
    "#### A) CLASSIFICATION ACCURACY"
   ]
  },
  {
   "cell_type": "code",
   "execution_count": 48,
   "id": "abb03ec1-b3da-4724-9002-4eedd3279b7c",
   "metadata": {},
   "outputs": [
    {
     "name": "stdout",
     "output_type": "stream",
     "text": [
      "Accuracy of the Model on Train Data is : 0.9460972488803583\n",
      "Accuracy of the Model on Test Data is : 0.6352658936425429\n"
     ]
    }
   ],
   "source": [
    "from sklearn.metrics import accuracy_score, roc_auc_score, f1_score, recall_score, precision_score\n",
    "\n",
    "y_pred_test = CLF.predict(X_test)\n",
    "y_pred_train = CLF.predict(X_train)\n",
    "\n",
    "print (\"Accuracy of the Model on Train Data is : {}\".format(accuracy_score(y_train, y_pred_train)))\n",
    "print (\"Accuracy of the Model on Test Data is : {}\".format(accuracy_score(y_test, y_pred_test)))"
   ]
  },
  {
   "cell_type": "code",
   "execution_count": 51,
   "id": "d181cb15-7b90-4fd2-bbdc-62423ae6565e",
   "metadata": {},
   "outputs": [
    {
     "ename": "NameError",
     "evalue": "name 'np' is not defined",
     "output_type": "error",
     "traceback": [
      "\u001b[1;31m---------------------------------------------------------------------------\u001b[0m",
      "\u001b[1;31mNameError\u001b[0m                                 Traceback (most recent call last)",
      "Cell \u001b[1;32mIn[51], line 1\u001b[0m\n\u001b[1;32m----> 1\u001b[0m \u001b[38;5;28mprint\u001b[39m(\u001b[38;5;124m\"\u001b[39m\u001b[38;5;124mUnique classes in training set:\u001b[39m\u001b[38;5;124m\"\u001b[39m, \u001b[43mnp\u001b[49m\u001b[38;5;241m.\u001b[39munique(y_train))\n\u001b[0;32m      2\u001b[0m \u001b[38;5;28mprint\u001b[39m(\u001b[38;5;124m\"\u001b[39m\u001b[38;5;124mUnique classes in test set:\u001b[39m\u001b[38;5;124m\"\u001b[39m, np\u001b[38;5;241m.\u001b[39munique(y_test))\n",
      "\u001b[1;31mNameError\u001b[0m: name 'np' is not defined"
     ]
    }
   ],
   "source": [
    "print(\"Unique classes in training set:\", np.unique(y_train))\n",
    "print(\"Unique classes in test set:\", np.unique(y_test))\n"
   ]
  },
  {
   "cell_type": "code",
   "execution_count": 50,
   "id": "b95e556c-53b9-4570-ac20-cf0d2fc2ca33",
   "metadata": {},
   "outputs": [
    {
     "ename": "ModelError",
     "evalue": "could not decode [0 1 2 3 4 5] y values to [0 1 2 3 4] labels",
     "output_type": "error",
     "traceback": [
      "\u001b[1;31m---------------------------------------------------------------------------\u001b[0m",
      "\u001b[1;31mIndexError\u001b[0m                                Traceback (most recent call last)",
      "File \u001b[1;32m~\\AppData\\Roaming\\Python\\Python312\\site-packages\\yellowbrick\\classifier\\base.py:290\u001b[0m, in \u001b[0;36mClassificationScoreVisualizer._decode_labels\u001b[1;34m(self, y)\u001b[0m\n\u001b[0;32m    289\u001b[0m \u001b[38;5;28;01mtry\u001b[39;00m:\n\u001b[1;32m--> 290\u001b[0m     \u001b[38;5;28;01mreturn\u001b[39;00m \u001b[43mnp\u001b[49m\u001b[38;5;241;43m.\u001b[39;49m\u001b[43masarray\u001b[49m\u001b[43m(\u001b[49m\u001b[38;5;28;43mself\u001b[39;49m\u001b[38;5;241;43m.\u001b[39;49m\u001b[43mclasses\u001b[49m\u001b[43m)\u001b[49m\u001b[43m[\u001b[49m\u001b[43midx\u001b[49m\u001b[43m]\u001b[49m\n\u001b[0;32m    291\u001b[0m \u001b[38;5;28;01mexcept\u001b[39;00m \u001b[38;5;167;01mIndexError\u001b[39;00m:\n",
      "\u001b[1;31mIndexError\u001b[0m: index 5 is out of bounds for axis 0 with size 5",
      "\nDuring handling of the above exception, another exception occurred:\n",
      "\u001b[1;31mModelError\u001b[0m                                Traceback (most recent call last)",
      "Cell \u001b[1;32mIn[50], line 10\u001b[0m\n\u001b[0;32m      7\u001b[0m rocauc \u001b[38;5;241m=\u001b[39m ROCAUC(CLF, size\u001b[38;5;241m=\u001b[39m(\u001b[38;5;241m1080\u001b[39m, \u001b[38;5;241m720\u001b[39m), classes\u001b[38;5;241m=\u001b[39mlabels)\n\u001b[0;32m      9\u001b[0m \u001b[38;5;66;03m# Score the model\u001b[39;00m\n\u001b[1;32m---> 10\u001b[0m \u001b[43mrocauc\u001b[49m\u001b[38;5;241;43m.\u001b[39;49m\u001b[43mscore\u001b[49m\u001b[43m(\u001b[49m\u001b[43mX_test\u001b[49m\u001b[43m,\u001b[49m\u001b[43m \u001b[49m\u001b[43my_test\u001b[49m\u001b[43m)\u001b[49m\n\u001b[0;32m     12\u001b[0m \u001b[38;5;66;03m# Show the ROC-AUC plot\u001b[39;00m\n\u001b[0;32m     13\u001b[0m rocauc\u001b[38;5;241m.\u001b[39mshow()\n",
      "File \u001b[1;32m~\\AppData\\Roaming\\Python\\Python312\\site-packages\\yellowbrick\\classifier\\rocauc.py:264\u001b[0m, in \u001b[0;36mROCAUC.score\u001b[1;34m(self, X, y)\u001b[0m\n\u001b[0;32m    245\u001b[0m \u001b[38;5;250m\u001b[39m\u001b[38;5;124;03m\"\"\"\u001b[39;00m\n\u001b[0;32m    246\u001b[0m \u001b[38;5;124;03mGenerates the predicted target values using the Scikit-Learn\u001b[39;00m\n\u001b[0;32m    247\u001b[0m \u001b[38;5;124;03mestimator.\u001b[39;00m\n\u001b[1;32m   (...)\u001b[0m\n\u001b[0;32m    260\u001b[0m \u001b[38;5;124;03m    Global accuracy unless micro or macro scores are requested.\u001b[39;00m\n\u001b[0;32m    261\u001b[0m \u001b[38;5;124;03m\"\"\"\u001b[39;00m\n\u001b[0;32m    262\u001b[0m \u001b[38;5;66;03m# Call super to check if fitted and to compute self.score_\u001b[39;00m\n\u001b[0;32m    263\u001b[0m \u001b[38;5;66;03m# NOTE: this sets score to the base score if neither macro nor micro\u001b[39;00m\n\u001b[1;32m--> 264\u001b[0m \u001b[38;5;28;43msuper\u001b[39;49m\u001b[43m(\u001b[49m\u001b[43mROCAUC\u001b[49m\u001b[43m,\u001b[49m\u001b[43m \u001b[49m\u001b[38;5;28;43mself\u001b[39;49m\u001b[43m)\u001b[49m\u001b[38;5;241;43m.\u001b[39;49m\u001b[43mscore\u001b[49m\u001b[43m(\u001b[49m\u001b[43mX\u001b[49m\u001b[43m,\u001b[49m\u001b[43m \u001b[49m\u001b[43my\u001b[49m\u001b[43m)\u001b[49m\n\u001b[0;32m    266\u001b[0m \u001b[38;5;66;03m# Compute the predictions for the test data\u001b[39;00m\n\u001b[0;32m    267\u001b[0m y_pred \u001b[38;5;241m=\u001b[39m \u001b[38;5;28mself\u001b[39m\u001b[38;5;241m.\u001b[39m_get_y_scores(X)\n",
      "File \u001b[1;32m~\\AppData\\Roaming\\Python\\Python312\\site-packages\\yellowbrick\\classifier\\base.py:231\u001b[0m, in \u001b[0;36mClassificationScoreVisualizer.score\u001b[1;34m(self, X, y)\u001b[0m\n\u001b[0;32m    222\u001b[0m         \u001b[38;5;28;01mraise\u001b[39;00m NotFitted(\n\u001b[0;32m    223\u001b[0m             (\n\u001b[0;32m    224\u001b[0m                 \u001b[38;5;124m\"\u001b[39m\u001b[38;5;124mcould not determine required property classes_; \u001b[39m\u001b[38;5;124m\"\u001b[39m\n\u001b[1;32m   (...)\u001b[0m\n\u001b[0;32m    227\u001b[0m             )\n\u001b[0;32m    228\u001b[0m         )\n\u001b[0;32m    230\u001b[0m     \u001b[38;5;28mself\u001b[39m\u001b[38;5;241m.\u001b[39mclass_counts_ \u001b[38;5;241m=\u001b[39m \u001b[38;5;28;01mNone\u001b[39;00m\n\u001b[1;32m--> 231\u001b[0m     \u001b[38;5;28mself\u001b[39m\u001b[38;5;241m.\u001b[39mclasses_ \u001b[38;5;241m=\u001b[39m \u001b[38;5;28;43mself\u001b[39;49m\u001b[38;5;241;43m.\u001b[39;49m\u001b[43m_decode_labels\u001b[49m\u001b[43m(\u001b[49m\u001b[38;5;28;43mself\u001b[39;49m\u001b[38;5;241;43m.\u001b[39;49m\u001b[43mestimator\u001b[49m\u001b[38;5;241;43m.\u001b[39;49m\u001b[43mclasses_\u001b[49m\u001b[43m)\u001b[49m\n\u001b[0;32m    232\u001b[0m     warnings\u001b[38;5;241m.\u001b[39mwarn(\n\u001b[0;32m    233\u001b[0m         \u001b[38;5;124m\"\u001b[39m\u001b[38;5;124mcould not determine class_counts_ from previously fitted classifier\u001b[39m\u001b[38;5;124m\"\u001b[39m,\n\u001b[0;32m    234\u001b[0m         YellowbrickWarning,\n\u001b[0;32m    235\u001b[0m     )\n\u001b[0;32m    237\u001b[0m \u001b[38;5;66;03m# This method implements ScoreVisualizer (do not call super).\u001b[39;00m\n",
      "File \u001b[1;32m~\\AppData\\Roaming\\Python\\Python312\\site-packages\\yellowbrick\\classifier\\base.py:293\u001b[0m, in \u001b[0;36mClassificationScoreVisualizer._decode_labels\u001b[1;34m(self, y)\u001b[0m\n\u001b[0;32m    291\u001b[0m     \u001b[38;5;28;01mexcept\u001b[39;00m \u001b[38;5;167;01mIndexError\u001b[39;00m:\n\u001b[0;32m    292\u001b[0m         y_labels \u001b[38;5;241m=\u001b[39m np\u001b[38;5;241m.\u001b[39munique(yp)\n\u001b[1;32m--> 293\u001b[0m         \u001b[38;5;28;01mraise\u001b[39;00m ModelError(\n\u001b[0;32m    294\u001b[0m             \u001b[38;5;124m\"\u001b[39m\u001b[38;5;124mcould not decode \u001b[39m\u001b[38;5;132;01m{}\u001b[39;00m\u001b[38;5;124m y values to \u001b[39m\u001b[38;5;132;01m{}\u001b[39;00m\u001b[38;5;124m labels\u001b[39m\u001b[38;5;124m\"\u001b[39m\u001b[38;5;241m.\u001b[39mformat(\n\u001b[0;32m    295\u001b[0m                 y_labels, \u001b[38;5;28mself\u001b[39m\u001b[38;5;241m.\u001b[39m_labels()\n\u001b[0;32m    296\u001b[0m             )\n\u001b[0;32m    297\u001b[0m         )\n\u001b[0;32m    299\u001b[0m \u001b[38;5;66;03m# could not decode y without encoder or classes, return it as it is, unmodified\u001b[39;00m\n\u001b[0;32m    300\u001b[0m \u001b[38;5;28;01mreturn\u001b[39;00m y\n",
      "\u001b[1;31mModelError\u001b[0m: could not decode [0 1 2 3 4 5] y values to [0 1 2 3 4] labels"
     ]
    },
    {
     "data": {
      "text/plain": [
       "<Figure size 1080x720 with 0 Axes>"
      ]
     },
     "metadata": {},
     "output_type": "display_data"
    }
   ],
   "source": [
    "from yellowbrick.classifier import ROCAUC\n",
    "\n",
    "# Assuming 'labels' contains the unique class labels, for example [0, 1, 2, 3, 4]\n",
    "labels = [0, 1, 2, 3, 4]  # replace with your actual labels\n",
    "\n",
    "# Initialize the ROCAUC visualizer with your classifier and class labels\n",
    "rocauc = ROCAUC(CLF, size=(1080, 720), classes=labels)\n",
    "\n",
    "# Score the model\n",
    "rocauc.score(X_test, y_test)\n",
    "\n",
    "# Show the ROC-AUC plot\n",
    "rocauc.show()"
   ]
  },
  {
   "cell_type": "code",
   "execution_count": null,
   "id": "e4e3292d-9200-4197-9a24-e080fc77a8d1",
   "metadata": {},
   "outputs": [],
   "source": []
  }
 ],
 "metadata": {
  "kernelspec": {
   "display_name": "Python 3 (ipykernel)",
   "language": "python",
   "name": "python3"
  },
  "language_info": {
   "codemirror_mode": {
    "name": "ipython",
    "version": 3
   },
   "file_extension": ".py",
   "mimetype": "text/x-python",
   "name": "python",
   "nbconvert_exporter": "python",
   "pygments_lexer": "ipython3",
   "version": "3.12.4"
  }
 },
 "nbformat": 4,
 "nbformat_minor": 5
}
